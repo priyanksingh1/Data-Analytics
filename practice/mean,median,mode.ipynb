{
 "cells": [
  {
   "cell_type": "code",
   "execution_count": 2,
   "id": "92e990ba-4a2a-47d4-9acf-4893fcd67adc",
   "metadata": {},
   "outputs": [
    {
     "name": "stdout",
     "output_type": "stream",
     "text": [
      "Enter data for dataset X:\n"
     ]
    },
    {
     "name": "stdin",
     "output_type": "stream",
     "text": [
      "Enter numbers separated by space:  1 5 9 7 3 2 8 6 4 7\n"
     ]
    },
    {
     "name": "stdout",
     "output_type": "stream",
     "text": [
      "Enter data for dataset Y:\n"
     ]
    },
    {
     "name": "stdin",
     "output_type": "stream",
     "text": [
      "Enter numbers separated by space:  9 12 34 65 33 21 45 78 99 23\n"
     ]
    },
    {
     "name": "stdout",
     "output_type": "stream",
     "text": [
      "Mean: 5.2\n",
      "Median: 5.5\n",
      "Mode: [7.0]\n",
      "25th Percentile: 3.0\n",
      "Range: 8.0\n",
      "IQR: 4.0\n",
      "Variance: 7.066666666666666\n",
      "Standard Deviation: 2.6583202716502514\n",
      "Coefficient of Variation: 51.12154368558176%\n",
      "Covariance: 40.8\n",
      "Correlation Coefficient: 0.5141818184924766\n"
     ]
    }
   ],
   "source": [
    "import math\n",
    "import statistics\n",
    "\n",
    "def get_input():\n",
    "    data_str = input(\"Enter numbers separated by space: \")\n",
    "    data = [float(num) for num in data_str.split()]\n",
    "    return data\n",
    "\n",
    "def mean(data):\n",
    "    return sum(data) / len(data)\n",
    "\n",
    "def median(data):\n",
    "    data.sort()\n",
    "    n = len(data)\n",
    "    if n % 2 == 0:\n",
    "        return (data[n//2 - 1] + data[n//2]) / 2\n",
    "    else:\n",
    "        return data[n//2]\n",
    "\n",
    "def mode(data):\n",
    "    frequency = {}\n",
    "    for value in data:\n",
    "        frequency[value] = frequency.get(value, 0) + 1\n",
    "    max_frequency = max(frequency.values())\n",
    "    modes = [key for key, val in frequency.items() if val == max_frequency]\n",
    "    if len(modes) == len(data):\n",
    "        return \"No mode found\"\n",
    "    return modes\n",
    "\n",
    "def percentile(data, percentile):\n",
    "    data.sort()\n",
    "    index = (len(data) * percentile) / 100\n",
    "    if index.is_integer():\n",
    "        return data[int(index)-1]\n",
    "    else:\n",
    "        return data[int(math.ceil(index))-1]\n",
    "\n",
    "def data_range(data):\n",
    "    return max(data) - min(data)\n",
    "\n",
    "def interquartile_range(data):\n",
    "    return percentile(data, 75) - percentile(data, 25)\n",
    "\n",
    "def variance(data):\n",
    "    mu = mean(data)\n",
    "    return sum((xi - mu) ** 2 for xi in data) / (len(data) - 1)\n",
    "\n",
    "def standard_deviation(data):\n",
    "    return math.sqrt(variance(data))\n",
    "\n",
    "def coefficient_of_variation(data):\n",
    "    return (standard_deviation(data) / mean(data)) * 100\n",
    "\n",
    "def covariance(x, y):\n",
    "    n = len(x)\n",
    "    mean_x, mean_y = mean(x), mean(y)\n",
    "    return sum((x[i] - mean_x) * (y[i] - mean_y) for i in range(n)) / (n - 1)\n",
    "\n",
    "def correlation_coefficient(x, y):\n",
    "    return covariance(x, y) / (standard_deviation(x) * standard_deviation(y))\n",
    "\n",
    "# Input Data\n",
    "print(\"Enter data for dataset X:\")\n",
    "data_x = get_input()\n",
    "print(\"Enter data for dataset Y:\")\n",
    "data_y = get_input()\n",
    "\n",
    "print(f\"Mean: {mean(data_x)}\")\n",
    "print(f\"Median: {median(data_x)}\")\n",
    "print(f\"Mode: {mode(data_x)}\")\n",
    "print(f\"25th Percentile: {percentile(data_x, 25)}\")\n",
    "print(f\"Range: {data_range(data_x)}\")\n",
    "print(f\"IQR: {interquartile_range(data_x)}\")\n",
    "print(f\"Variance: {variance(data_x)}\")\n",
    "print(f\"Standard Deviation: {standard_deviation(data_x)}\")\n",
    "print(f\"Coefficient of Variation: {coefficient_of_variation(data_x)}%\")\n",
    "if len(data_x) == len(data_y) and len(data_x) > 1:  # Ensure datasets are compatible\n",
    "    print(f\"Covariance: {covariance(data_x, data_y)}\")\n",
    "    print(f\"Correlation Coefficient: {correlation_coefficient(data_x, data_y)}\")\n",
    "else:\n",
    "    print(\"\\n Covariance and Correlation Coefficient cannot be calculated with dat asets of different lengths or with datasets of length 1.\")\n"
   ]
  },
  {
   "cell_type": "code",
   "execution_count": null,
   "id": "72886bc4-b37f-48fb-acfd-4661c73a9ad3",
   "metadata": {},
   "outputs": [],
   "source": [
    "import numpy as np\n",
    "import pandas as pd\n",
    "\n",
    "# Input Data\n",
    "data_x = input(\"Enter data for dataset X separated by space: \")\n",
    "data_y = input(\"Enter data for dataset Y separated by space: \")\n",
    "\n",
    "# Convert input strings to arrays\n",
    "data_x = np.array(data_x.split(), dtype=float)\n",
    "data_y = np.array(data_y.split(), dtype=float)\n",
    "\n",
    "# Calculating statistics\n",
    "mean_x = np.mean(data_x)\n",
    "median_x = np.median(data_x)\n",
    "mode_x = statistics.mode(data_x)\n",
    "percentile_25_x = np.percentile(data_x, 25)\n",
    "data_range_x = np.ptp(data_x)\n",
    "iqr_x = np.percentile(data_x, 75) - np.percentile(data_x, 25)\n",
    "variance_x = np.var(data_x, ddof=1)  # ddof=1 for sample variance\n",
    "std_dev_x = np.std(data_x, ddof=1)   # ddof=1 for sample standard deviation\n",
    "coeff_variation_x = (std_dev_x / mean_x) * 100\n",
    "\n",
    "# Covariance and Correlation\n",
    "if len(data_x) == len(data_y) and len(data_x) > 1:\n",
    "    covariance_xy = np.cov(data_x, data_y, ddof=1)[0][1]  # ddof=1 for sample covariance\n",
    "    correlation_coefficient_xy = np.corrcoef(data_x, data_y)[0][1]\n",
    "else:\n",
    "    covariance_xy = None\n",
    "    correlation_coefficient_xy = None\n",
    "\n",
    "# Printing results\n",
    "print(f\"Mean: {mean_x}\")\n",
    "print(f\"Median: {median_x}\")\n",
    "print(f\"Mode: {mode_x}\")\n",
    "print(f\"25th Percentile: {percentile_25_x}\")\n",
    "print(f\"Range: {data_range_x}\")\n",
    "print(f\"IQR: {iqr_x}\")\n",
    "print(f\"Variance: {variance_x}\")\n",
    "print(f\"Standard Deviation: {std_dev_x}\")\n",
    "print(f\"Coefficient of Variation: {coeff_variation_x}%\")\n",
    "print(f\"Covariance: {covariance_xy}\")\n",
    "print(f\"Correlation Coefficient: {correlation_coefficient_xy}\")"
   ]
  },
  {
   "cell_type": "code",
   "execution_count": 5,
   "id": "5f63f126-3ec6-496d-bf55-1e093897c4b5",
   "metadata": {},
   "outputs": [
    {
     "name": "stdin",
     "output_type": "stream",
     "text": [
      "enter x 3\n",
      "enter y 4\n"
     ]
    },
    {
     "ename": "TypeError",
     "evalue": "can't multiply sequence by non-int of type 'builtin_function_or_method'",
     "output_type": "error",
     "traceback": [
      "\u001b[1;31m---------------------------------------------------------------------------\u001b[0m",
      "\u001b[1;31mTypeError\u001b[0m                                 Traceback (most recent call last)",
      "Cell \u001b[1;32mIn[5], line 4\u001b[0m\n\u001b[0;32m      1\u001b[0m x \u001b[38;5;241m=\u001b[39m \u001b[38;5;28minput\u001b[39m(\u001b[38;5;124m\"\u001b[39m\u001b[38;5;124menter x\u001b[39m\u001b[38;5;124m\"\u001b[39m)\n\u001b[0;32m      2\u001b[0m y \u001b[38;5;241m=\u001b[39m \u001b[38;5;28minput\u001b[39m(\u001b[38;5;124m\"\u001b[39m\u001b[38;5;124menter y\u001b[39m\u001b[38;5;124m\"\u001b[39m)\n\u001b[1;32m----> 4\u001b[0m \u001b[38;5;28;01mif\u001b[39;00m \u001b[38;5;28mlen\u001b[39m(x) \u001b[38;5;241m!=\u001b[39m \u001b[38;5;28;43mlen\u001b[39;49m\u001b[38;5;241;43m*\u001b[39;49m\u001b[43m(\u001b[49m\u001b[43my\u001b[49m\u001b[43m)\u001b[49m:\n\u001b[0;32m      5\u001b[0m     \u001b[38;5;28mprint\u001b[39m(\u001b[38;5;124m\"\u001b[39m\u001b[38;5;124mlength does not match\u001b[39m\u001b[38;5;124m\"\u001b[39m)\n\u001b[0;32m      6\u001b[0m \u001b[38;5;28;01melse\u001b[39;00m:\n",
      "\u001b[1;31mTypeError\u001b[0m: can't multiply sequence by non-int of type 'builtin_function_or_method'"
     ]
    }
   ],
   "source": [
    "x = input(\"enter x\")\n",
    "y = input(\"enter y\")\n",
    "\n",
    "if len(x) != len*(y):\n",
    "    print(\"length does not match\")\n",
    "else:\n",
    "    n = len(x)\n",
    "    a = sum(x)/n\n",
    "    b = sum(y)/n\n",
    "    c = sum(p * q for p, q in zip(x, y))/n\n",
    "    d= c-a*b\n",
    "    print(d)"
   ]
  },
  {
   "cell_type": "code",
   "execution_count": 6,
   "id": "3368cf53-dcd6-4cee-a6af-793d419a4451",
   "metadata": {},
   "outputs": [
    {
     "name": "stdin",
     "output_type": "stream",
     "text": [
      "enter x 23 , 33, 333 ,574, 5456\n",
      "enter y  4564\n"
     ]
    },
    {
     "name": "stdout",
     "output_type": "stream",
     "text": [
      "length does not match\n"
     ]
    }
   ],
   "source": [
    "input_x = input(\"enter x\")\n",
    "input_y = input(\"enter y \")\n",
    "\n",
    "data_x = [float(i) for i in input_x.split(\",\")]\n",
    "data_y = [float(i) for i in input_y.split(\",\")]\n",
    "\n",
    "if len(data_x) != len(data_y):\n",
    "    print(\"length does not match\")\n",
    "else:\n",
    "    n = len(data_x)\n",
    "    mean_x = sum(data_x) / n\n",
    "    mean_y = sum(data_y) / n\n",
    "    xy_product_mean = sum(x * y for x, y in zip(data_x, data_y)) / n\n",
    "    cov_xy = xy_product_mean - mean_x * mean_y\n",
    "\n",
    "    print(f\"Covariance between X and Y: {cov_xy}\")\n"
   ]
  },
  {
   "cell_type": "code",
   "execution_count": 9,
   "id": "4c845194-a555-4374-89e3-525343654cf2",
   "metadata": {},
   "outputs": [
    {
     "name": "stdout",
     "output_type": "stream",
     "text": [
      "Normalized x: [0.   0.25 0.5  0.75 1.  ]\n"
     ]
    }
   ],
   "source": [
    "import numpy as np\n",
    "\n",
    "x = np.array([1, 2, 3, 4, 5])\n",
    "x_normalized = (x - np.min(x)) / (np.max(x) - np.min(x))\n",
    "print(f\"Normalized x: {x_normalized}\")"
   ]
  },
  {
   "cell_type": "code",
   "execution_count": 1,
   "id": "3bcda16a-64af-4623-aef0-dadf7a08fb2d",
   "metadata": {},
   "outputs": [
    {
     "name": "stdout",
     "output_type": "stream",
     "text": [
      "Cross Table:\n",
      "          Large      Small     \n",
      "Red                 1          2 \n",
      "Blue                0          2 \n",
      "Green               1          0 \n",
      "\n",
      "Joint Probabilities:\n",
      "P(Red, Small) = 0.3333\n",
      "P(Red, Large) = 0.1667\n",
      "P(Blue, Small) = 0.3333\n",
      "P(Green, Large) = 0.1667\n",
      "\n",
      "Marginal Probabilities:\n",
      "P(Red) = 0.5000\n",
      "P(Blue) = 0.3333\n",
      "P(Green) = 0.1667\n",
      "P(Large) = 0.3333\n",
      "P(Small) = 0.6667\n"
     ]
    }
   ],
   "source": [
    "def create_cross_table(data):\n",
    "    \"\"\"\n",
    "    Create a cross table from given data.\n",
    "    \n",
    "    :param data: List of tuples where each tuple represents a data point\n",
    "                 (category1, category2)\n",
    "    :return: Dictionary of dictionaries with counts\n",
    "    \"\"\"\n",
    "    cross_table = {}\n",
    "    for cat1, cat2 in data:\n",
    "        if cat1 not in cross_table:\n",
    "            cross_table[cat1] = {}\n",
    "        if cat2 not in cross_table[cat1]:\n",
    "            cross_table[cat1][cat2] = 0\n",
    "        cross_table[cat1][cat2] += 1\n",
    "    return cross_table\n",
    "\n",
    "def print_cross_table(cross_table):\n",
    "    \"\"\"\n",
    "    Print the cross table in a formatted manner.\n",
    "    \n",
    "    :param cross_table: The cross table as a dictionary of dictionaries\n",
    "    \"\"\"\n",
    "    # Collect all categories in category2\n",
    "    all_cat2 = set()\n",
    "    for cat1 in cross_table:\n",
    "        all_cat2.update(cross_table[cat1].keys())\n",
    "    all_cat2 = sorted(all_cat2)\n",
    "\n",
    "    print(\"         \", \" \".join(f\"{cat2:10}\" for cat2 in all_cat2))\n",
    "    for cat1, sub_dict in cross_table.items():\n",
    "        print(f\"{cat1:10}\", end=\" \")\n",
    "        for cat2 in all_cat2:\n",
    "            print(f\"{sub_dict.get(cat2, 0):10}\", end=\" \")\n",
    "        print()\n",
    "\n",
    "def calculate_probabilities(cross_table):\n",
    "    \"\"\"\n",
    "    Calculate joint and marginal probabilities from the cross table.\n",
    "    \n",
    "    :param cross_table: The cross table as a dictionary of dictionaries\n",
    "    :return: Tuple of two dicts (joint probabilities, marginal probabilities)\n",
    "    \"\"\"\n",
    "    total = sum(sum(sub_dict.values()) for sub_dict in cross_table.values())\n",
    "    joint_prob = {}\n",
    "    marginal_prob = {}\n",
    "\n",
    "    # Calculate joint probabilities\n",
    "    for cat1, sub_dict in cross_table.items():\n",
    "        if cat1 not in joint_prob:\n",
    "            joint_prob[cat1] = {}\n",
    "        for cat2, count in sub_dict.items():\n",
    "            joint_prob[cat1][cat2] = count / total\n",
    "\n",
    "    # Calculate marginal probabilities for category 1\n",
    "    for cat1, sub_dict in joint_prob.items():\n",
    "        marginal_prob[cat1] = sum(sub_dict.values())\n",
    "\n",
    "    # Calculate marginal probabilities for category 2\n",
    "    all_cat2 = set()\n",
    "    for sub_dict in joint_prob.values():\n",
    "        all_cat2.update(sub_dict.keys())\n",
    "    \n",
    "    for cat2 in all_cat2:\n",
    "        marginal_prob[cat2] = sum(joint_prob[cat1][cat2] for cat1 in joint_prob if cat2 in joint_prob[cat1])\n",
    "\n",
    "    return joint_prob, marginal_prob\n",
    "\n",
    "# Example Data\n",
    "data = [(\"Red\", \"Small\"), (\"Red\", \"Large\"), (\"Blue\", \"Small\"),\n",
    "        (\"Blue\", \"Small\"), (\"Red\", \"Small\"), (\"Green\", \"Large\")]\n",
    "\n",
    "# Create Cross Table\n",
    "cross_table = create_cross_table(data)\n",
    "print(\"Cross Table:\")\n",
    "print_cross_table(cross_table)\n",
    "\n",
    "# Calculate and Print Probabilities\n",
    "joint_prob, marginal_prob = calculate_probabilities(cross_table)\n",
    "print(\"\\nJoint Probabilities:\")\n",
    "for cat1, sub_dict in joint_prob.items():\n",
    "    for cat2, prob in sub_dict.items():\n",
    "        print(f\"P({cat1}, {cat2}) = {prob:.4f}\")\n",
    "\n",
    "print(\"\\nMarginal Probabilities:\")\n",
    "for cat, prob in marginal_prob.items():\n",
    "    print(f\"P({cat}) = {prob:.4f}\")\n"
   ]
  },
  {
   "cell_type": "code",
   "execution_count": 2,
   "id": "eec35021-e4f9-45e8-85dc-713fe700f449",
   "metadata": {},
   "outputs": [
    {
     "name": "stdout",
     "output_type": "stream",
     "text": [
      "Intercept: 1.3 Slope: 0.9\n"
     ]
    }
   ],
   "source": [
    "def simple_linear_regression(x, y):\n",
    "    n = len(x)\n",
    "    sum_x = sum(x)\n",
    "    sum_y = sum(y)\n",
    "    sum_x2 = sum(xi**2 for xi in x)\n",
    "    sum_xy = sum(xi*yi for xi, yi in zip(x, y))\n",
    "    \n",
    "    # Calculating coefficients\n",
    "    b = (n*sum_xy - sum_x*sum_y) / (n*sum_x2 - sum_x**2)\n",
    "    a = (sum_y - b*sum_x) / n\n",
    "    \n",
    "    return a, b\n",
    "\n",
    "# Example usage:\n",
    "x = [1, 2, 3, 4, 5]\n",
    "y = [2, 3, 5, 4, 6]\n",
    "a, b = simple_linear_regression(x, y)\n",
    "print(\"Intercept:\", a, \"Slope:\", b)\n"
   ]
  },
  {
   "cell_type": "code",
   "execution_count": 3,
   "id": "825051ca-df3f-476a-b87a-1351d68a8fe0",
   "metadata": {},
   "outputs": [
    {
     "name": "stdin",
     "output_type": "stream",
     "text": [
      "Enter number of trials (n):  8\n",
      "Enter success probability per trial (p):  2\n"
     ]
    },
    {
     "name": "stdout",
     "output_type": "stream",
     "text": [
      "x | P(X=x)\n",
      "0 | 1.0000\n",
      "1 | -16.0000\n",
      "2 | 112.0000\n",
      "3 | -448.0000\n",
      "4 | 1120.0000\n",
      "5 | -1792.0000\n",
      "6 | 1792.0000\n",
      "7 | -1024.0000\n",
      "8 | 256.0000\n"
     ]
    },
    {
     "ename": "TypeError",
     "evalue": "stem() got an unexpected keyword argument 'use_line_collection'",
     "output_type": "error",
     "traceback": [
      "\u001b[1;31m---------------------------------------------------------------------------\u001b[0m",
      "\u001b[1;31mTypeError\u001b[0m                                 Traceback (most recent call last)",
      "Cell \u001b[1;32mIn[3], line 22\u001b[0m\n\u001b[0;32m     19\u001b[0m     \u001b[38;5;28mprint\u001b[39m(\u001b[38;5;124mf\u001b[39m\u001b[38;5;124m\"\u001b[39m\u001b[38;5;132;01m{\u001b[39;00mx\u001b[38;5;132;01m}\u001b[39;00m\u001b[38;5;124m | \u001b[39m\u001b[38;5;132;01m{\u001b[39;00mprob\u001b[38;5;132;01m:\u001b[39;00m\u001b[38;5;124m.4f\u001b[39m\u001b[38;5;132;01m}\u001b[39;00m\u001b[38;5;124m\"\u001b[39m)\n\u001b[0;32m     21\u001b[0m \u001b[38;5;66;03m# Plotting\u001b[39;00m\n\u001b[1;32m---> 22\u001b[0m \u001b[43mplt\u001b[49m\u001b[38;5;241;43m.\u001b[39;49m\u001b[43mstem\u001b[49m\u001b[43m(\u001b[49m\u001b[38;5;28;43mrange\u001b[39;49m\u001b[43m(\u001b[49m\u001b[43mn\u001b[49m\u001b[43m \u001b[49m\u001b[38;5;241;43m+\u001b[39;49m\u001b[43m \u001b[49m\u001b[38;5;241;43m1\u001b[39;49m\u001b[43m)\u001b[49m\u001b[43m,\u001b[49m\u001b[43m \u001b[49m\u001b[43mprobabilities\u001b[49m\u001b[43m,\u001b[49m\u001b[43m \u001b[49m\u001b[43muse_line_collection\u001b[49m\u001b[38;5;241;43m=\u001b[39;49m\u001b[38;5;28;43;01mTrue\u001b[39;49;00m\u001b[43m)\u001b[49m\n\u001b[0;32m     23\u001b[0m plt\u001b[38;5;241m.\u001b[39mtitle(\u001b[38;5;124m'\u001b[39m\u001b[38;5;124mBinomial Distribution\u001b[39m\u001b[38;5;124m'\u001b[39m)\n\u001b[0;32m     24\u001b[0m plt\u001b[38;5;241m.\u001b[39mxlabel(\u001b[38;5;124m'\u001b[39m\u001b[38;5;124mRandom Variable X\u001b[39m\u001b[38;5;124m'\u001b[39m)\n",
      "\u001b[1;31mTypeError\u001b[0m: stem() got an unexpected keyword argument 'use_line_collection'"
     ]
    }
   ],
   "source": [
    "import math\n",
    "import matplotlib.pyplot as plt\n",
    "\n",
    "def binomial_distribution(n, p, x):\n",
    "    # Calculate binomial coefficient\n",
    "    def binom_coeff(n, k):\n",
    "        return math.factorial(n) // (math.factorial(k) * math.factorial(n - k))\n",
    "\n",
    "    # Calculate binomial probability\n",
    "    return binom_coeff(n, x) * (p ** x) * ((1 - p) ** (n - x))\n",
    "\n",
    "n = int(input(\"Enter number of trials (n): \"))\n",
    "p = float(input(\"Enter success probability per trial (p): \"))\n",
    "probabilities = [binomial_distribution(n, p, x) for x in range(n + 1)]\n",
    "\n",
    "# Printing the probability table\n",
    "print(\"x | P(X=x)\")\n",
    "for x, prob in enumerate(probabilities):\n",
    "    print(f\"{x} | {prob:.4f}\")\n",
    "\n",
    "# Plotting\n",
    "plt.stem(range(n + 1), probabilities, use_line_collection=True)\n",
    "plt.title('Binomial Distribution')\n",
    "plt.xlabel('Random Variable X')\n",
    "plt.ylabel('Probability')\n",
    "plt.show()\n"
   ]
  },
  {
   "cell_type": "code",
   "execution_count": 5,
   "id": "ea245349-370a-4127-86eb-980ba985b8d7",
   "metadata": {},
   "outputs": [
    {
     "name": "stdin",
     "output_type": "stream",
     "text": [
      "Enter the rate parameter (λ):  3\n"
     ]
    },
    {
     "name": "stdout",
     "output_type": "stream",
     "text": [
      "Expected Value: 3.0\n",
      "Variance: 3.0\n",
      "k | P(X=k)\n",
      "0 | 0.0498\n",
      "1 | 0.1494\n",
      "2 | 0.2240\n",
      "3 | 0.2240\n",
      "4 | 0.1680\n",
      "5 | 0.1008\n",
      "6 | 0.0504\n",
      "7 | 0.0216\n",
      "8 | 0.0081\n",
      "9 | 0.0027\n",
      "10 | 0.0008\n",
      "11 | 0.0002\n",
      "12 | 0.0001\n",
      "13 | 0.0000\n",
      "14 | 0.0000\n",
      "15 | 0.0000\n",
      "16 | 0.0000\n",
      "17 | 0.0000\n",
      "18 | 0.0000\n",
      "19 | 0.0000\n"
     ]
    },
    {
     "ename": "TypeError",
     "evalue": "stem() got an unexpected keyword argument 'use_line_collection'",
     "output_type": "error",
     "traceback": [
      "\u001b[1;31m---------------------------------------------------------------------------\u001b[0m",
      "\u001b[1;31mTypeError\u001b[0m                                 Traceback (most recent call last)",
      "Cell \u001b[1;32mIn[5], line 25\u001b[0m\n\u001b[0;32m     22\u001b[0m     \u001b[38;5;28mprint\u001b[39m(\u001b[38;5;124mf\u001b[39m\u001b[38;5;124m\"\u001b[39m\u001b[38;5;132;01m{\u001b[39;00mk\u001b[38;5;132;01m}\u001b[39;00m\u001b[38;5;124m | \u001b[39m\u001b[38;5;132;01m{\u001b[39;00mprob\u001b[38;5;132;01m:\u001b[39;00m\u001b[38;5;124m.4f\u001b[39m\u001b[38;5;132;01m}\u001b[39;00m\u001b[38;5;124m\"\u001b[39m)\n\u001b[0;32m     24\u001b[0m \u001b[38;5;66;03m# Plotting\u001b[39;00m\n\u001b[1;32m---> 25\u001b[0m \u001b[43mplt\u001b[49m\u001b[38;5;241;43m.\u001b[39;49m\u001b[43mstem\u001b[49m\u001b[43m(\u001b[49m\u001b[43mk_values\u001b[49m\u001b[43m,\u001b[49m\u001b[43m \u001b[49m\u001b[43mprobabilities\u001b[49m\u001b[43m,\u001b[49m\u001b[43m \u001b[49m\u001b[43muse_line_collection\u001b[49m\u001b[38;5;241;43m=\u001b[39;49m\u001b[38;5;28;43;01mTrue\u001b[39;49;00m\u001b[43m)\u001b[49m\n\u001b[0;32m     26\u001b[0m plt\u001b[38;5;241m.\u001b[39mtitle(\u001b[38;5;124m'\u001b[39m\u001b[38;5;124mPoisson Distribution\u001b[39m\u001b[38;5;124m'\u001b[39m)\n\u001b[0;32m     27\u001b[0m plt\u001b[38;5;241m.\u001b[39mxlabel(\u001b[38;5;124m'\u001b[39m\u001b[38;5;124mRandom Variable X\u001b[39m\u001b[38;5;124m'\u001b[39m)\n",
      "\u001b[1;31mTypeError\u001b[0m: stem() got an unexpected keyword argument 'use_line_collection'"
     ]
    }
   ],
   "source": [
    "import math\n",
    "import matplotlib.pyplot as plt\n",
    "\n",
    "def poisson_distribution(lambda_, k):\n",
    "    return (lambda_**k * math.exp(-lambda_)) / math.factorial(k)\n",
    "\n",
    "lambda_ = float(input(\"Enter the rate parameter (λ): \"))\n",
    "k_values = range(0, 20)  # Adjust the range as needed\n",
    "probabilities = [poisson_distribution(lambda_, k) for k in k_values]\n",
    "\n",
    "# Calculate expected value and variance\n",
    "expected_value = lambda_\n",
    "variance = lambda_\n",
    "\n",
    "# Print expected value and variance\n",
    "print(\"Expected Value:\", expected_value)\n",
    "print(\"Variance:\", variance)\n",
    "\n",
    "# Print the probability table\n",
    "print(\"k | P(X=k)\")\n",
    "for k, prob in zip(k_values, probabilities):\n",
    "    print(f\"{k} | {prob:.4f}\")\n",
    "\n",
    "# Plotting\n",
    "plt.stem(k_values, probabilities, use_line_collection=True)\n",
    "plt.title('Poisson Distribution')\n",
    "plt.xlabel('Random Variable X')\n",
    "plt.ylabel('Probability')\n",
    "plt.show()"
   ]
  },
  {
   "cell_type": "code",
   "execution_count": null,
   "id": "eeb12299-0621-487a-ad74-3e1af3289c4d",
   "metadata": {},
   "outputs": [],
   "source": []
  }
 ],
 "metadata": {
  "kernelspec": {
   "display_name": "Python 3 (ipykernel)",
   "language": "python",
   "name": "python3"
  },
  "language_info": {
   "codemirror_mode": {
    "name": "ipython",
    "version": 3
   },
   "file_extension": ".py",
   "mimetype": "text/x-python",
   "name": "python",
   "nbconvert_exporter": "python",
   "pygments_lexer": "ipython3",
   "version": "3.12.0"
  }
 },
 "nbformat": 4,
 "nbformat_minor": 5
}
